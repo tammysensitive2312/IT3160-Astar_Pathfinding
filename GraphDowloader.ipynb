{
 "cells": [
  {
   "cell_type": "code",
   "execution_count": null,
   "id": "initial_id",
   "metadata": {
    "collapsed": true
   },
   "outputs": [],
   "source": [
    "import osmnx as ox\n",
    "\n",
    "# Đặt tên của địa điểm mà bạn muốn tải đồ thị\n",
    "place_name = \"Hanoi, Vietnam\"\n",
    "\n",
    "# Tải đồ thị đường đi cho địa điểm đó\n",
    "graph = ox.graph_from_place(place_name, network_type='drive')\n",
    "\n",
    "# Vẽ đồ thị\n",
    "ox.plot_graph(ox.project_graph(graph))\n"
   ]
  },
  {
   "cell_type": "code",
   "outputs": [],
   "source": [
    "# Lưu đồ thị dưới dạng GraphML\n",
    "ox.save_graphml(graph, filepath='hanoi_graph.graphml')\n"
   ],
   "metadata": {
    "collapsed": false
   },
   "id": "145077cf53ffc014"
  }
 ],
 "metadata": {
  "kernelspec": {
   "display_name": "Python 3",
   "language": "python",
   "name": "python3"
  },
  "language_info": {
   "codemirror_mode": {
    "name": "ipython",
    "version": 2
   },
   "file_extension": ".py",
   "mimetype": "text/x-python",
   "name": "python",
   "nbconvert_exporter": "python",
   "pygments_lexer": "ipython2",
   "version": "2.7.6"
  }
 },
 "nbformat": 4,
 "nbformat_minor": 5
}
